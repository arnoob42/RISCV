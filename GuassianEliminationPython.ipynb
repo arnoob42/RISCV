{
 "cells": [
  {
   "cell_type": "code",
   "execution_count": 8,
   "id": "9278615c",
   "metadata": {},
   "outputs": [
    {
     "name": "stdout",
     "output_type": "stream",
     "text": [
      "Random Augmented Matrix Generated:\n",
      "-3613.4923320385556 -5962.910849323525 1665.0227333307946 -5744.092906465788 291.9963782696177 : -1355.857433311646\n",
      "\n",
      "28508.070293692825 2365.5655478840417 4274.636454825536 -8982.803756906078 5048.562925170068 : -3513.554017546303\n",
      "\n",
      "3504.0617190775683 -1838.855461215366 318.22494107082724 -9240.967508018408 416.80276604858943 : -2672.663109002866\n",
      "\n",
      "-13548.904807692308 -3595.1424366872006 1567.2997741608908 -233.05891602714206 -4100.731301115242 : -7167.308122466098\n",
      "\n",
      "-1761.2428289266957 5654.974836333879 -865.8300962861073 4676.693870115675 -6043.359080188679 : 183.73950320512822\n",
      "\n",
      "Gaussian Matrix at 0:[[123.45, 21.23, 2.45, 34.67, 33, 11], [0, 54.3, 0, 61.435, 31.23, 24.5], [0, 0, 91.23, 51.24, 10, 2], [1, 2, 3, 4, 5, 33.21], [2, 4, 6, 8, 10, 23]]\n",
      "\n",
      "Gaussian Matrix at 1:[[123.45, 21.23, 2.45, 34.67, 33, 11], [0.0, 54.3, 0.0, 61.435, 31.23, 24.5], [0.0, 0.0, 91.23, 51.24, 10.0, 2.0], [0.0, 1.8280275415147833, 2.9801539084649655, 3.7191575536654518, 4.732685297691373, 33.12089509923046], [0.0, 3.6560550830295666, 5.960307816929931, 7.4383151073309035, 9.465370595382746, 22.821790198460917]]\n",
      "\n",
      "Gaussian Matrix at 2:[[123.45, 21.23, 2.45, 34.67, 33, 11], [0.0, 54.3, 0.0, 61.435, 31.23, 24.5], [0.0, 0.0, 91.23, 51.24, 10.0, 2.0], [0.0, 0.0, 2.9801539084649655, 1.6509278665022706, 3.6813169713284504, 32.29609445895215], [0.0, 0.0, 5.960307816929931, 3.3018557330045413, 7.362633942656901, 21.1721889179043]]\n",
      "\n",
      "Gaussian Matrix at 3:[[123.45, 21.23, 2.45, 34.67, 33, 11], [0.0, 54.3, 0.0, 61.435, 31.23, 24.5], [0.0, 0.0, 91.23, 51.24, 10.0, 2.0], [0.0, 0.0, 4.440892098500626e-16, -0.022897478995316023, 3.3546531646349322, 32.230761697613445], [0.0, 0.0, 8.881784197001252e-16, -0.045794957990632046, 6.7093063292698645, 21.041523395226893]]\n",
      "\n",
      "No Solution Exist\n",
      "Gaussian Matrix:\n",
      " [[123.45, 21.23, 2.45, 34.67, 33, 11], [0.0, 54.3, 0.0, 61.435, 31.23, 24.5], [0.0, 0.0, 91.23, 51.24, 10.0, 2.0], [0.0, 0.0, 4.440892098500626e-16, -0.022897478995316023, 3.3546531646349322, 32.230761697613445], [0.0, 0.0, 0.0, 0.0, 0.0, -43.42]]\n",
      "4\n"
     ]
    },
    {
     "ename": "ZeroDivisionError",
     "evalue": "float division by zero",
     "output_type": "error",
     "traceback": [
      "\u001b[0;31m---------------------------------------------------------------------------\u001b[0m",
      "\u001b[0;31mZeroDivisionError\u001b[0m                         Traceback (most recent call last)",
      "Cell \u001b[0;32mIn[8], line 81\u001b[0m\n\u001b[1;32m     79\u001b[0m     \u001b[38;5;28;01mfor\u001b[39;00m j \u001b[38;5;129;01min\u001b[39;00m \u001b[38;5;28mrange\u001b[39m(n\u001b[38;5;241m-\u001b[39m\u001b[38;5;241m1\u001b[39m,i,\u001b[38;5;241m-\u001b[39m\u001b[38;5;241m1\u001b[39m):\n\u001b[1;32m     80\u001b[0m         sumM\u001b[38;5;241m=\u001b[39msumM\u001b[38;5;241m+\u001b[39mx[j]\u001b[38;5;241m*\u001b[39mmat[i][j]\n\u001b[0;32m---> 81\u001b[0m     x[i]\u001b[38;5;241m=\u001b[39m (mat[i][n]\u001b[38;5;241m-\u001b[39msumM)\u001b[38;5;241m/\u001b[39mmat[i][i]\n\u001b[1;32m     83\u001b[0m \u001b[38;5;66;03m# Displaying solution\u001b[39;00m\n\u001b[1;32m     84\u001b[0m \u001b[38;5;28mprint\u001b[39m(\u001b[38;5;124m'\u001b[39m\u001b[38;5;130;01m\\n\u001b[39;00m\u001b[38;5;124mRequired solution is: \u001b[39m\u001b[38;5;124m'\u001b[39m)\n",
      "\u001b[0;31mZeroDivisionError\u001b[0m: float division by zero"
     ]
    }
   ],
   "source": [
    "import numpy as np\n",
    "import sys\n",
    "import random\n",
    "import struct\n",
    "\n",
    "#Taking Dynamic No. of Input Variable\n",
    "#For Assignment its 5\n",
    "n=5\n",
    "\n",
    "x=np.zeros(n)\n",
    "mat = np.zeros((n,n+1),float)\n",
    "\n",
    "\n",
    "#Generation of Augmented Matrix\n",
    "print(\"Random Augmented Matrix Generated:\")\n",
    "for i in range(0,n):\n",
    "    for j in range(0,n+1):\n",
    "        mat[i][j]=float(random.randrange(-2**27, 2**27)/random.randrange(1, 2**16)) #setting random value to array\n",
    "        #checking of diagonal element not zero\n",
    "        #if zero, setting to random generated variable\n",
    "        #it'll run inside loop until a random variable not equal to zero is set\n",
    "        while(i==j and mat[i][i] == 0):\n",
    "            mat[i][j]=float(random.randrange(-2**27, 2**27)/random.randrange(1, 2**16)) #setting random value to array\n",
    "        if j!=n:\n",
    "            print(mat[i][j],end=\" \")\n",
    "        else:\n",
    "            print(\":\",mat[i][j])\n",
    "            print(\"\")\n",
    "            \n",
    "mat = [[1,2,3,4,5,33.21], [0,54.3,0,61.435,31.23,24.5], [0,0,91.23,51.24,10,2], [123.45,21.23,2.45,34.67,33,11], [2,4,6,8,10,23] ]\n",
    "#for different case\n",
    "#unique Soln\n",
    "# mat= [[-6,4,6,-8,-3,-50],[-4,3,4,-4,-9,11],[-3,-1,-1,-6,2,-29],[-2,-4,6,-5,7,-53],[-7,-9,-10,5,9,12]]\n",
    "#singular\n",
    "# mat= [[1,2,3,4,5,6],[3,6,3,4,5,3],[1,2,5,4,5,6],[9,2,3,7,5,9],[1,9,3,4,8,6]]\n",
    "#inf Soln\n",
    "# mat= [[1,2,3,4,5,6],[1,2,3,4,5,6],[1,2,5,4,5,6],[9,2,3,7,5,9],[1,9,3,4,8,6]]\n",
    "#no Soln\n",
    "# mat= [[1,2,3,4,5,6],[1,2,5,4,5,6],[9,2,3,7,5,9],[1,9,3,4,8,6],[1,2,3,4,5,9]]\n",
    "# mat= np.array(mat,float)\n",
    "# print(mat)\n",
    "\n",
    "#Solving Augmented Matrix\n",
    "for i in range(0,n-1):\n",
    "    for k in range(i+1,n):\n",
    "        if mat[i][i]<mat[k][i] :\n",
    "#                 print(\"yes\")\n",
    "            for j in range (0,n+1):\n",
    "                temp = mat[i][j]\n",
    "                mat[i][j] = mat[k][j]\n",
    "                mat[k][j] = temp\n",
    "\n",
    "\n",
    "    print(\"Gaussian Matrix at {}:{}\\n\".format(i,mat))\n",
    "    if mat[i][i] == 0.0:\n",
    "        if mat[i][n-1] == 0.0:\n",
    "            sys.exit(\"Infinite Solution Exists\")\n",
    "        else:\n",
    "            print(\"No Solution Exist\") \n",
    "\n",
    "\n",
    "\n",
    "    for j in range(i+1,n):\n",
    "        ratio = mat[j][i]/mat[i][i]\n",
    "        for k in range(0,n+1):\n",
    "            mat[j][k]=mat[j][k] - ratio* mat[i][k]\n",
    "            \n",
    "if mat[n-1][n-1] == 0.0:\n",
    "    if mat[n-2][n-1] == 0.0:\n",
    "        sys.exit(\"Infinite Solution Exists\")\n",
    "    else:\n",
    "        print(\"No Solution Exist\") \n",
    "\n",
    "\n",
    "print(\"Gaussian Matrix:\\n\",mat)\n",
    "for i in range(n-1,-1,-1):\n",
    "    sumM=0.0\n",
    "    print(i)\n",
    "    for j in range(n-1,i,-1):\n",
    "        sumM=sumM+x[j]*mat[i][j]\n",
    "    x[i]= (mat[i][n]-sumM)/mat[i][i]\n",
    "\n",
    "# Displaying solution\n",
    "print('\\nRequired solution is: ')\n",
    "for i in range(0,n):\n",
    "    print('X{} = {}(hex: {} )'.format(i,x[i],hex(struct.unpack('<I', struct.pack('<f',  x[i]))[0])), end = '\\t')\n"
   ]
  },
  {
   "cell_type": "code",
   "execution_count": 32,
   "id": "9c0d8e22",
   "metadata": {
    "scrolled": true
   },
   "outputs": [
    {
     "name": "stdout",
     "output_type": "stream",
     "text": [
      "Error Percentage at index 0 : 8.892516498260506e-05\n",
      "Error Percentage at index 1 : 3.96541557378784e-06\n",
      "Error Percentage at index 2 : 2.037010145905659e-05\n",
      "Error Percentage at index 3 : 5.749269506173367e-05\n",
      "Error Percentage at index 4 : 5.615466715409267e-06\n",
      "Mean Error Percentage: 3.5273768758518485e-05\n"
     ]
    }
   ],
   "source": [
    "X_risc = np.array(['0xBE105514', '0xC10E2DCC', '0xC0EBE47D', '0x3FBB052C', '0x41A559CF'])\n",
    "error=np.zeros(n)\n",
    "\n",
    "\n",
    "for i in  range (0,len(x)):\n",
    "    decP=x[i]\n",
    "    decR=struct.unpack('f', struct.pack('I', int(X_risc[i],16)))[0]\n",
    "    error[i]= abs((decR-decP)/decP)*100\n",
    "    print('Error Percentage at index {} : {}'.format(i,error[i]))\n",
    "\n",
    "print('Mean Error Percentage:', np.mean(error))\n"
   ]
  },
  {
   "cell_type": "code",
   "execution_count": null,
   "id": "ab475e0a",
   "metadata": {},
   "outputs": [],
   "source": []
  }
 ],
 "metadata": {
  "kernelspec": {
   "display_name": "Python 3 (ipykernel)",
   "language": "python",
   "name": "python3"
  },
  "language_info": {
   "codemirror_mode": {
    "name": "ipython",
    "version": 3
   },
   "file_extension": ".py",
   "mimetype": "text/x-python",
   "name": "python",
   "nbconvert_exporter": "python",
   "pygments_lexer": "ipython3",
   "version": "3.11.4"
  }
 },
 "nbformat": 4,
 "nbformat_minor": 5
}
